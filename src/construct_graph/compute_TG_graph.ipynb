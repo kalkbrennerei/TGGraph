{
 "cells": [
  {
   "cell_type": "code",
   "execution_count": 1,
   "metadata": {},
   "outputs": [],
   "source": [
    "import db_utilities as db_utl\n",
    "import pandas as pd\n",
    "from tqdm import tqdm\n",
    "import os\n",
    "import numpy as np\n",
    "import math\n",
    "from multiprocessing import Pool\n",
    "import csv\n",
    "import links_utilities as lk_utl"
   ]
  },
  {
   "cell_type": "code",
   "execution_count": 2,
   "metadata": {},
   "outputs": [],
   "source": [
    "def fix_type_node_df(node_df):\n",
    "    tmp_node_df = node_df.copy()\n",
    "    tmp_node_df['creation_date'] = node_df['creation_date'].astype(int)\n",
    "    return tmp_node_df"
   ]
  },
  {
   "cell_type": "code",
   "execution_count": 3,
   "metadata": {},
   "outputs": [],
   "source": [
    "def fix_type_edge_df(edge_df):\n",
    "    tmp_edge_df = edge_df.copy()\n",
    "    tmp_edge_df['date'] = edge_df['date'].astype(int)\n",
    "    tmp_edge_df['src'] = edge_df['src'].astype(int)\n",
    "    tmp_edge_df['dst'] = edge_df['dst'].astype(int)\n",
    "    return tmp_edge_df"
   ]
  },
  {
   "cell_type": "code",
   "execution_count": 4,
   "metadata": {},
   "outputs": [],
   "source": [
    "def get_edges_by_forward(ch_msgs_df, db_channels_df):\n",
    "    ch_fwmsgs_df = ch_msgs_df[ch_msgs_df['is_forwarded'] == True]\n",
    "    ch_fwmsgs_df = ch_fwmsgs_df[ch_fwmsgs_df['ch_id'] != ch_fwmsgs_df['forwarded_from_id']]\n",
    "    ch_fwmsgs_df = ch_fwmsgs_df[ch_fwmsgs_df['forwarded_from_id'].isin(db_channels_df['ch_id'])]\n",
    "    ch_fwmsgs_df['edge_type'] = 'forward'\n",
    "    ch_fwmsgs_df.drop(columns=['message'], inplace=True)\n",
    "    ch_fwmsgs_df['src'] = ch_fwmsgs_df['ch_id']\n",
    "    ch_fwmsgs_df['dst'] = ch_fwmsgs_df['forwarded_from_id']\n",
    "    ch_fwmsgs_df['note'] = np.nan\n",
    "    return ch_fwmsgs_df"
   ]
  },
  {
   "cell_type": "code",
   "execution_count": 5,
   "metadata": {},
   "outputs": [],
   "source": [
    "def get_edges_by_link(ch_msgs_df, db_channels_df, tme_df, ch_id):\n",
    "    ch_msgs_df.drop(columns=['message'], inplace=True)\n",
    "    ch_lkmsgs_df = pd.merge(ch_msgs_df, tme_df[tme_df['ch_id']==ch_id], on=('ch_id', 'msg_id'))\n",
    "    ch_lkmsgs_df['edge_type'] = 'link'\n",
    "    tmp = db_channels_df.filter(['ch_id', 'username'], axis=1).rename(columns={'ch_id': 'src_id', 'username': 'src'})\n",
    "    ch_lkmsgs_df = pd.merge(ch_lkmsgs_df, tmp, on='src')\n",
    "    ch_lkmsgs_df.drop(columns=['src'], inplace=True)\n",
    "    ch_lkmsgs_df.rename(columns={'src_id': 'src'}, inplace=True)\n",
    "    tmp = db_channels_df.filter(['ch_id', 'username'], axis=1).rename(columns={'ch_id': 'dst_id', 'username': 'dst'})\n",
    "    ch_lkmsgs_df = pd.merge(ch_lkmsgs_df, tmp, on='dst')\n",
    "    ch_lkmsgs_df.drop(columns=['dst'], inplace=True)\n",
    "    ch_lkmsgs_df.rename(columns={'dst_id': 'dst'}, inplace=True)\n",
    "    return ch_lkmsgs_df"
   ]
  },
  {
   "cell_type": "code",
   "execution_count": 6,
   "metadata": {},
   "outputs": [],
   "source": [
    "def get_edges_by_at(ch_msgs_df, db_channels_df):\n",
    "    ch_atmsgs_df = ch_msgs_df.dropna(subset=['message']).copy()\n",
    "    ch_atmsgs_df['ats'] = ch_atmsgs_df.apply(lambda x: lk_utl.get_at_links(x['message'], db_channels_df), axis=1)\n",
    "    ch_atmsgs_df = ch_atmsgs_df[ch_atmsgs_df['ats'].apply(lambda x: len(x) > 0)]\n",
    "    ch_atmsgs_df = ch_atmsgs_df.explode('ats')\n",
    "    ch_atmsgs_df['dst'] = ch_atmsgs_df['ats']\n",
    "    ch_atmsgs_df = ch_atmsgs_df[ch_atmsgs_df['ch_id'] != ch_atmsgs_df['dst']]\n",
    "    ch_atmsgs_df.drop(columns=['ats'], inplace=True)\n",
    "    ch_atmsgs_df['edge_type'] = 'at'\n",
    "    ch_atmsgs_df['src'] = ch_atmsgs_df['ch_id']\n",
    "    ch_atmsgs_df.drop(columns=['message'], inplace=True)\n",
    "    return ch_atmsgs_df"
   ]
  },
  {
   "cell_type": "code",
   "execution_count": 7,
   "metadata": {},
   "outputs": [],
   "source": [
    "def foo(args):\n",
    "    ch_ids, db_name, edge_file, db_channels_df, tme_df = args\n",
    "    sub_newNodes = pd.Series(dtype='int64')\n",
    "    sub_edge_df = None\n",
    "    for ch_id in ch_ids:\n",
    "        try:\n",
    "            ch_msgs_df = db_utl.get_msgs_by_ch_id(int(ch_id), db_name=db_name)\n",
    "        except:\n",
    "            continue\n",
    "        ch_fwmsgs_df = get_edges_by_forward(ch_msgs_df, db_channels_df)\n",
    "        sub_newNodes = pd.concat([sub_newNodes, ch_fwmsgs_df['dst']]).drop_duplicates(keep='first')\n",
    "        ch_lkmsgs_df = get_edges_by_link(ch_msgs_df, db_channels_df, tme_df, ch_id)\n",
    "        sub_newNodes = pd.concat([sub_newNodes, ch_lkmsgs_df['dst']]).drop_duplicates(keep='first')\n",
    "        #ch_atmsgs_df = get_edges_by_at(ch_msgs_df, db_channels_df)\n",
    "        #sub_newNodes = pd.concat([sub_newNodes, ch_atmsgs_df['dst']]).drop_duplicates(keep='first')\n",
    "\n",
    "        if type(sub_edge_df) == type(None):\n",
    "            sub_edge_df = pd.concat([ch_fwmsgs_df, ch_lkmsgs_df])\n",
    "        else:\n",
    "            sub_edge_df = pd.concat([sub_edge_df, ch_fwmsgs_df, ch_lkmsgs_df])\n",
    "\n",
    "    # write in edge file\n",
    "    if sub_edge_df is not None:\n",
    "        sub_edge_df = fix_type_edge_df(sub_edge_df)\n",
    "        sub_edge_df = sub_edge_df.reindex(sorted(sub_edge_df.columns), axis=1)\n",
    "        sub_edge_df.to_csv(edge_file, mode='a', header=False, index=False)\n",
    "    return sub_newNodes"
   ]
  },
  {
   "cell_type": "code",
   "execution_count": 8,
   "metadata": {},
   "outputs": [],
   "source": [
    "def get_queue_df(db_channels_df, subsetNodes, lvl):\n",
    "    queue_df = db_channels_df[db_channels_df['ch_id'].isin(subsetNodes)]\n",
    "    queue_df['level'] = lvl\n",
    "    queue_df['level'] = queue_df['level'].astype(int)\n",
    "    queue_df = fix_type_node_df(queue_df)\n",
    "    queue_df = queue_df.reindex(sorted(queue_df.columns), axis=1)\n",
    "    return queue_df"
   ]
  },
  {
   "cell_type": "code",
   "execution_count": 9,
   "metadata": {},
   "outputs": [],
   "source": [
    "def generateTGcsvFromTGchannels(startingNodes, store_path, levels, name, core, chunksize, tme_path, db_name='Telegram_test'):\n",
    "\n",
    "    tme_df = pd.read_csv(tme_path)\n",
    "    startingNodes = pd.Series(list(set(startingNodes)))\n",
    "    db_channels_df = db_utl.get_chs_info_by_ids(db_utl.get_channel_ids(db_name), db_name=db_name)\n",
    "\n",
    "    # genero node_file e edge_file con i rispettivi header\n",
    "    node_file = os.path.join(store_path, name + '_nodes.csv')\n",
    "    edge_file = os.path.join(store_path, name + '_edges.csv')\n",
    "    node_cols = ['ch_id', 'username', 'creation_date', 'title', 'description', 'scam', 'n_subscribers', 'verified', 'level']\n",
    "    edge_cols = ['src', 'dst', 'ch_id', 'msg_id', 'media_id', 'date', 'author', 'is_forwarded', 'forwarded_from_id', 'forwarded_message_date', 'title', 'extension', 'edge_type', 'note']\n",
    "    with open(node_file, 'w') as f:\n",
    "        csv_writer = csv.writer(f)\n",
    "        csv_writer.writerow(sorted(node_cols))\n",
    "    with open(edge_file, 'w') as f:\n",
    "        csv_writer = csv.writer(f)\n",
    "        csv_writer.writerow(sorted(edge_cols))\n",
    "\n",
    "    # setto il livello iniziale di osservazione\n",
    "    lvl = 0\n",
    "\n",
    "    # genero la queue dei nodi da osservare\n",
    "    queue_df = get_queue_df(db_channels_df, startingNodes, lvl)\n",
    "\n",
    "    # genero il knownNodes dove memorizzo tutti gli id di nodi osservati\n",
    "    knownNodes = pd.Series(dtype='int64')\n",
    "\n",
    "    # visito in BFS il network per il numero indicato di iterazioni scoprendo nuovi nodi e archi\n",
    "    while lvl < levels and not queue_df.empty:\n",
    "\n",
    "        # aggiungo i nodi di queue in knownNodes\n",
    "        knownNodes = pd.concat([knownNodes, queue_df['ch_id']]).drop_duplicates(keep='first')\n",
    "\n",
    "        # scrivo queue_df su node_file\n",
    "        queue_df.to_csv(node_file, mode='a', header=False, index=False)\n",
    "\n",
    "        # leggo tutti i messaggi dei canali in queue, genero i nuovi archi, genero la nuova queue\n",
    "        l = [(ch_ids, db_name, edge_file, db_channels_df, tme_df) for ch_ids in np.array_split(queue_df['ch_id'], math.ceil(queue_df.shape[0]/chunksize))]\n",
    "        newNodes = pd.Series(dtype='int64')\n",
    "        with Pool(core) as p:\n",
    "            for sub_newNodes in tqdm(p.imap(foo, l), total=len(l)):\n",
    "                newNodes = pd.concat([newNodes, sub_newNodes]).drop_duplicates(keep='first')\n",
    "        newNodes = newNodes[~newNodes.isin(knownNodes)]\n",
    "        lvl += 1\n",
    "        queue_df = get_queue_df(db_channels_df, newNodes, lvl)\n",
    "    return"
   ]
  },
  {
   "cell_type": "code",
   "execution_count": 10,
   "metadata": {},
   "outputs": [],
   "source": [
    "if __name__ == \"__main__\":\n",
    "    # db_name = 'TGDataset'\n",
    "    db_name = 'Telegram_test'\n",
    "    tme_path = '../../00_Data/tme.csv'\n",
    "    store_path = '.'\n",
    "    # sabmykNetwork = pd.read_csv('data/sabmyk_network.csv')\n",
    "    # startingNodes = sabmykNetwork['ch_ID'].to_list()\n",
    "    # name = 'sabmyk'\n",
    "    startingNodes = db_utl.get_channel_ids(db_name)\n",
    "    name = 'TG'\n",
    "    levels = 1\n",
    "    core = 32\n",
    "    chunksize = 100"
   ]
  },
  {
   "cell_type": "code",
   "execution_count": 11,
   "metadata": {},
   "outputs": [
    {
     "name": "stderr",
     "output_type": "stream",
     "text": [
      "/tmp/ipykernel_2882898/789278390.py:3: DtypeWarning: Columns (4) have mixed types. Specify dtype option on import or set low_memory=False.\n",
      "  tme_df = pd.read_csv(tme_path)\n",
      "100%|██████████| 1210/1210 [1:22:14<00:00,  4.08s/it]\n"
     ]
    }
   ],
   "source": [
    "generateTGcsvFromTGchannels(startingNodes, store_path, levels, name, core, chunksize, tme_path, db_name=db_name)"
   ]
  }
 ],
 "metadata": {
  "kernelspec": {
   "display_name": "stable",
   "language": "python",
   "name": "python3"
  },
  "language_info": {
   "codemirror_mode": {
    "name": "ipython",
    "version": 3
   },
   "file_extension": ".py",
   "mimetype": "text/x-python",
   "name": "python",
   "nbconvert_exporter": "python",
   "pygments_lexer": "ipython3",
   "version": "3.11.6"
  },
  "orig_nbformat": 4
 },
 "nbformat": 4,
 "nbformat_minor": 2
}
